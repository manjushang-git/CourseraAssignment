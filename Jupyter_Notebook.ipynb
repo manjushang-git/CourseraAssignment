{
 "cells": [
  {
   "cell_type": "markdown",
   "metadata": {},
   "source": [
    "<center>\n",
    "    <img src=\"https://cf-courses-data.s3.us.cloud-object-storage.appdomain.cloud/IBMDeveloperSkillsNetwork-DS0105EN-SkillsNetwork/labs/Module2/images/SN_web_lightmode.png\" width=\"300\" alt=\"cognitiveclass.ai logo\"  />\n",
    "</center>\n"
   ]
  },
  {
   "cell_type": "markdown",
   "metadata": {},
   "source": [
    "#### Add your code below following the instructions given in the course\n"
   ]
  },
  {
   "cell_type": "markdown",
   "metadata": {},
   "source": [
    "# My Jupyter Notebook on IBM Watson Studio"
   ]
  },
  {
   "cell_type": "markdown",
   "metadata": {},
   "source": [
    "**Manjusha NG**\n",
    "\n",
    "Role : Machine Learning Engineer"
   ]
  },
  {
   "cell_type": "markdown",
   "metadata": {},
   "source": [
    "_I am interested in datascience because it is all about data. It utilizes the power of data to predict the future_"
   ]
  },
  {
   "cell_type": "markdown",
   "metadata": {},
   "source": [
    "### My code greets all Data scientists"
   ]
  },
  {
   "cell_type": "code",
   "execution_count": 4,
   "metadata": {},
   "outputs": [
    {
     "name": "stdout",
     "output_type": "stream",
     "text": [
      "Hello Data Scientists! Have a great career ahead \n"
     ]
    }
   ],
   "source": [
    "print('Hello Data Scientists! Have a great career ahead ')"
   ]
  },
  {
   "cell_type": "markdown",
   "metadata": {},
   "source": [
    " Data science has a lot of career options . Some of which are\n",
    " \n",
    "\n",
    "   - Data Engineer\n",
    "   - Data Analyst\n",
    "   - Machine Learning Engineer\n",
    "   \n",
    "    \n",
    "        | Job Title      |  Skill Set|\n",
    "        |----------------|-----------|\n",
    "        | Data Engineer  | Pyspark,Airflow|\n",
    "        | Data Analyst    | Excel, Python |\n",
    "        | ML Engineer    | Keras, Tensorflow|\n",
    "   \n",
    "\n",
    "\n",
    "Following is the links to learn these technologies\n",
    "\n",
    "[Coursera](http://https://in.coursera.org/)\n",
    "\n",
    "Skils required\n",
    "\n",
    " 1. Python\n",
    " 1. R\n",
    " 1. SQL\n",
    " 1. Story Telling"
   ]
  },
  {
   "cell_type": "code",
   "execution_count": null,
   "metadata": {},
   "outputs": [],
   "source": []
  }
 ],
 "metadata": {
  "kernelspec": {
   "display_name": "Python",
   "language": "python",
   "name": "conda-env-python-py"
  },
  "language_info": {
   "codemirror_mode": {
    "name": "ipython",
    "version": 3
   },
   "file_extension": ".py",
   "mimetype": "text/x-python",
   "name": "python",
   "nbconvert_exporter": "python",
   "pygments_lexer": "ipython3",
   "version": "3.7.12"
  }
 },
 "nbformat": 4,
 "nbformat_minor": 4
}
